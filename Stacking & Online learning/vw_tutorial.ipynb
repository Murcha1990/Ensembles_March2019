{
 "cells": [
  {
   "cell_type": "markdown",
   "metadata": {
    "colab_type": "text",
    "id": "gBcKvo5l7GSj"
   },
   "source": [
    "## Линейные методы. Vowpal Wabbit."
   ]
  },
  {
   "cell_type": "markdown",
   "metadata": {
    "colab_type": "text",
    "id": "Oi_m3iyo7GSn"
   },
   "source": [
    "Vowpal Wabbit on GitHub: https://github.com/JohnLangford/vowpal_wabbit\n",
    "\n",
    "Vowpal Wabbit Tutorial: https://github.com/JohnLangford/vowpal_wabbit/wiki/Tutorial"
   ]
  },
  {
   "cell_type": "code",
   "execution_count": null,
   "metadata": {
    "colab": {
     "base_uri": "https://localhost:8080/",
     "height": 520
    },
    "colab_type": "code",
    "id": "lNecNKWS7INt",
    "outputId": "f3bbadc8-1f5b-4c07-8964-5400b876c4f2"
   },
   "outputs": [],
   "source": [
    "!apt-get install vowpal-wabbit"
   ]
  },
  {
   "cell_type": "code",
   "execution_count": null,
   "metadata": {
    "colab": {
     "base_uri": "https://localhost:8080/",
     "height": 384
    },
    "colab_type": "code",
    "id": "HB2bBWSY7dqQ",
    "outputId": "a5842035-6f47-4272-fc3c-b1a83930a9f7"
   },
   "outputs": [],
   "source": [
    "!wget https://www.dropbox.com/s/crld672bipr0n05/train-sample.csv?dl=0"
   ]
  },
  {
   "cell_type": "code",
   "execution_count": null,
   "metadata": {
    "colab": {
     "base_uri": "https://localhost:8080/",
     "height": 35
    },
    "colab_type": "code",
    "id": "fwZicsmo7x5R",
    "outputId": "8380cdaf-09c3-4ebc-df96-f9f4345ec9f4"
   },
   "outputs": [],
   "source": [
    "!ls"
   ]
  },
  {
   "cell_type": "code",
   "execution_count": null,
   "metadata": {
    "colab": {},
    "colab_type": "code",
    "id": "8-aEqmcM7GSp"
   },
   "outputs": [],
   "source": [
    "import pandas as pd\n",
    "import numpy as np"
   ]
  },
  {
   "cell_type": "code",
   "execution_count": null,
   "metadata": {
    "colab": {},
    "colab_type": "code",
    "id": "tqiyrtOL7GSu"
   },
   "outputs": [],
   "source": [
    "train_path = 'train-sample.csv?dl=0'"
   ]
  },
  {
   "cell_type": "code",
   "execution_count": null,
   "metadata": {
    "colab": {
     "base_uri": "https://localhost:8080/",
     "height": 35
    },
    "colab_type": "code",
    "id": "oyK42i_h7GSy",
    "outputId": "a45e462a-d938-402e-9861-ef5a66ae53aa"
   },
   "outputs": [],
   "source": [
    "data = pd.read_csv(train_path)\n",
    "data.head()\n",
    "print(len(data))"
   ]
  },
  {
   "cell_type": "code",
   "execution_count": null,
   "metadata": {
    "colab": {
     "base_uri": "https://localhost:8080/",
     "height": 52
    },
    "colab_type": "code",
    "id": "hIe6dY5y7GS4",
    "outputId": "b730a464-b472-4a4b-ef5e-6a8bf3718c27"
   },
   "outputs": [],
   "source": [
    "print(data.OpenStatus[10])\n",
    "print(data.BodyMarkdown[10])"
   ]
  },
  {
   "cell_type": "code",
   "execution_count": null,
   "metadata": {
    "colab": {},
    "colab_type": "code",
    "id": "Mnd3r_V47GS9"
   },
   "outputs": [],
   "source": [
    "data_train = data.iloc[:50000, :]\n",
    "data_test = data.iloc[70000:, :]"
   ]
  },
  {
   "cell_type": "code",
   "execution_count": null,
   "metadata": {
    "colab": {},
    "colab_type": "code",
    "id": "tR2l6tkW7GTA"
   },
   "outputs": [],
   "source": [
    "import re\n",
    "\n",
    "def save_to_vw(data, fname):\n",
    "    with open(fname, 'w') as fout:\n",
    "        for _, row in data.iterrows():\n",
    "            text = filter(lambda x: len(x) > 1, re.split(\"[^a-z]\",\n",
    "                                    row.BodyMarkdown.lower()))\n",
    "            text = ' '.join(text)\n",
    "            if row.OpenStatus == \"open\":\n",
    "                target = 1\n",
    "            else:\n",
    "                target = -1\n",
    "            fout.write('{0} |n 0:{1} {2} |t {3}\\n'.format(target, \n",
    "                                        row.ReputationAtPostCreation,\n",
    "                                        row.Tag1,\n",
    "                                        text))"
   ]
  },
  {
   "cell_type": "code",
   "execution_count": null,
   "metadata": {
    "colab": {},
    "colab_type": "code",
    "id": "UBlbJx3C7GTD"
   },
   "outputs": [],
   "source": [
    "save_to_vw(data_train, 'train.vw')\n",
    "save_to_vw(data_test, 'test.vw')"
   ]
  },
  {
   "cell_type": "code",
   "execution_count": null,
   "metadata": {
    "colab": {
     "base_uri": "https://localhost:8080/",
     "height": 35
    },
    "colab_type": "code",
    "id": "Yse2dRCV8-DX",
    "outputId": "aa8cc152-c19b-4acc-eb02-9cbfce7b8ae1"
   },
   "outputs": [],
   "source": [
    "!ls"
   ]
  },
  {
   "cell_type": "code",
   "execution_count": null,
   "metadata": {
    "colab": {
     "base_uri": "https://localhost:8080/",
     "height": 72
    },
    "colab_type": "code",
    "id": "tOjgsuDY7GTG",
    "outputId": "d04159ed-c9ac-4503-8a11-5f0308cf90da"
   },
   "outputs": [],
   "source": [
    "!head -n 2 train.vw"
   ]
  },
  {
   "cell_type": "code",
   "execution_count": null,
   "metadata": {
    "colab": {
     "base_uri": "https://localhost:8080/",
     "height": 693
    },
    "colab_type": "code",
    "id": "TFe67Th17GTM",
    "outputId": "a674e110-4ed1-4159-96e9-1564414d0989"
   },
   "outputs": [],
   "source": [
    "!vw -d train.vw -c -k -f model.vw --passes 10 --link logistic"
   ]
  },
  {
   "cell_type": "code",
   "execution_count": null,
   "metadata": {
    "colab": {
     "base_uri": "https://localhost:8080/",
     "height": 676
    },
    "colab_type": "code",
    "id": "u-hgdhJH7GTQ",
    "outputId": "36d115b4-b47d-4ed1-dee7-42cc8c2cd838"
   },
   "outputs": [],
   "source": [
    "!vw -d test.vw -i model.vw -t -p pred.txt"
   ]
  },
  {
   "cell_type": "code",
   "execution_count": null,
   "metadata": {
    "colab": {
     "base_uri": "https://localhost:8080/",
     "height": 191
    },
    "colab_type": "code",
    "id": "_SUo1dLe7GTT",
    "outputId": "86039e2d-e7ab-4f68-b6e3-abb4bb165fb8"
   },
   "outputs": [],
   "source": [
    "!head -n 10 pred.txt"
   ]
  },
  {
   "cell_type": "code",
   "execution_count": null,
   "metadata": {
    "colab": {
     "base_uri": "https://localhost:8080/",
     "height": 35
    },
    "colab_type": "code",
    "id": "6FaIQr2w7GTX",
    "outputId": "acff50e8-67fe-4e08-ea9a-080e53fc6121"
   },
   "outputs": [],
   "source": [
    "from sklearn.metrics import roc_auc_score\n",
    "\n",
    "def calc_vw_qual():\n",
    "    preds = pd.read_csv('pred.txt', header=None).iloc[:, 0].values\n",
    "    target = data_test.OpenStatus.values\n",
    "    T = []\n",
    "    for t in target:\n",
    "        if t == 'open':\n",
    "            T.append(1.)\n",
    "        else:\n",
    "            T.append(-1.)\n",
    "    print(roc_auc_score(T, preds))\n",
    "    \n",
    "calc_vw_qual()"
   ]
  },
  {
   "cell_type": "code",
   "execution_count": null,
   "metadata": {
    "colab": {
     "base_uri": "https://localhost:8080/",
     "height": 1456
    },
    "colab_type": "code",
    "id": "ZRdEFZFp7GTb",
    "outputId": "01aaba50-47d1-4785-8730-365dab574ee2"
   },
   "outputs": [],
   "source": [
    "!vw -d train.vw -c -k -f model.vw --passes 10 -l 0.1 --link logistic\n",
    "!vw -d test.vw -i model.vw -t -p pred.txt\n",
    "print('\\n\\n\\n')\n",
    "calc_vw_qual()"
   ]
  },
  {
   "cell_type": "markdown",
   "metadata": {
    "colab_type": "text",
    "id": "5Ina55A67GTe"
   },
   "source": [
    "n-граммы (n=2) - индикаторы того, что два слова встретились рядом. Из \"мама мыла раму\" получаем биграммы \"мама мыла\" и \"мыла раму\"."
   ]
  },
  {
   "cell_type": "code",
   "execution_count": null,
   "metadata": {
    "colab": {
     "base_uri": "https://localhost:8080/",
     "height": 1491
    },
    "colab_type": "code",
    "id": "Vg6sQOnh7GTg",
    "outputId": "d77b6078-3b8e-4d31-f69a-8082e41203e9"
   },
   "outputs": [],
   "source": [
    "!vw -d train.vw -c -k -f model.vw --passes 10 -l 0.1 --ngram t2 --link logistic\n",
    "!vw -d test.vw -i model.vw -t -p pred.txt\n",
    "print('\\n\\n\\n')\n",
    "calc_vw_qual()"
   ]
  },
  {
   "cell_type": "markdown",
   "metadata": {
    "colab_type": "text",
    "id": "AWsWp25t7GTj"
   },
   "source": [
    "k-skip-n-граммы - как n-граммы, но разрешаем словам быть отдаленными друг от друга не больше, чем на k"
   ]
  },
  {
   "cell_type": "code",
   "execution_count": null,
   "metadata": {
    "colab": {
     "base_uri": "https://localhost:8080/",
     "height": 1525
    },
    "colab_type": "code",
    "id": "D3EXDeI67GTm",
    "outputId": "5e052180-4923-4c01-c473-6755e94b3f34"
   },
   "outputs": [],
   "source": [
    "!vw -d train.vw -c -k -f model.vw --passes 10 -l 0.1 --ngram t2 --skips t2 --link logistic\n",
    "!vw -d test.vw -i model.vw -t -p pred.txt\n",
    "print('\\n\\n\\n')\n",
    "calc_vw_qual()"
   ]
  },
  {
   "cell_type": "code",
   "execution_count": null,
   "metadata": {
    "colab": {
     "base_uri": "https://localhost:8080/",
     "height": 1491
    },
    "colab_type": "code",
    "id": "YQNfl4T67GTq",
    "outputId": "b1e03029-5f09-4940-f5d7-1d94dfb01e1f"
   },
   "outputs": [],
   "source": [
    "!vw -d train.vw -c -k -f model.vw --passes 10 -l 0.1 --ngram t2 -b 18 --link logistic\n",
    "!vw -d test.vw -i model.vw -t -p pred.txt\n",
    "print('\\n\\n\\n')\n",
    "calc_vw_qual()"
   ]
  },
  {
   "cell_type": "code",
   "execution_count": null,
   "metadata": {
    "colab": {},
    "colab_type": "code",
    "id": "rlJz_9ly7GTu"
   },
   "outputs": [],
   "source": []
  }
 ],
 "metadata": {
  "colab": {
   "name": "vw_tutorial.ipynb",
   "provenance": [],
   "version": "0.3.2"
  },
  "kernelspec": {
   "display_name": "Python 3",
   "language": "python",
   "name": "python3"
  },
  "language_info": {
   "codemirror_mode": {
    "name": "ipython",
    "version": 3
   },
   "file_extension": ".py",
   "mimetype": "text/x-python",
   "name": "python",
   "nbconvert_exporter": "python",
   "pygments_lexer": "ipython3",
   "version": "3.6.6"
  }
 },
 "nbformat": 4,
 "nbformat_minor": 1
}
